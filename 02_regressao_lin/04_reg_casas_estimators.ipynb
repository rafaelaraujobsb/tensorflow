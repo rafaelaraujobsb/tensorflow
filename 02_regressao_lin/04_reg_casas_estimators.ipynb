{
 "cells": [
  {
   "cell_type": "code",
   "execution_count": 1,
   "metadata": {},
   "outputs": [],
   "source": [
    "import pandas as pd\n",
    "import tensorflow as tf"
   ]
  },
  {
   "cell_type": "code",
   "execution_count": 2,
   "metadata": {},
   "outputs": [
    {
     "data": {
      "text/html": [
       "<div>\n",
       "<style scoped>\n",
       "    .dataframe tbody tr th:only-of-type {\n",
       "        vertical-align: middle;\n",
       "    }\n",
       "\n",
       "    .dataframe tbody tr th {\n",
       "        vertical-align: top;\n",
       "    }\n",
       "\n",
       "    .dataframe thead th {\n",
       "        text-align: right;\n",
       "    }\n",
       "</style>\n",
       "<table border=\"1\" class=\"dataframe\">\n",
       "  <thead>\n",
       "    <tr style=\"text-align: right;\">\n",
       "      <th></th>\n",
       "      <th>id</th>\n",
       "      <th>date</th>\n",
       "      <th>price</th>\n",
       "      <th>bedrooms</th>\n",
       "      <th>bathrooms</th>\n",
       "      <th>sqft_living</th>\n",
       "      <th>sqft_lot</th>\n",
       "      <th>floors</th>\n",
       "      <th>waterfront</th>\n",
       "      <th>view</th>\n",
       "      <th>...</th>\n",
       "      <th>grade</th>\n",
       "      <th>sqft_above</th>\n",
       "      <th>sqft_basement</th>\n",
       "      <th>yr_built</th>\n",
       "      <th>yr_renovated</th>\n",
       "      <th>zipcode</th>\n",
       "      <th>lat</th>\n",
       "      <th>long</th>\n",
       "      <th>sqft_living15</th>\n",
       "      <th>sqft_lot15</th>\n",
       "    </tr>\n",
       "  </thead>\n",
       "  <tbody>\n",
       "    <tr>\n",
       "      <th>0</th>\n",
       "      <td>7129300520</td>\n",
       "      <td>20141013T000000</td>\n",
       "      <td>221900.0</td>\n",
       "      <td>3</td>\n",
       "      <td>1.00</td>\n",
       "      <td>1180</td>\n",
       "      <td>5650</td>\n",
       "      <td>1.0</td>\n",
       "      <td>0</td>\n",
       "      <td>0</td>\n",
       "      <td>...</td>\n",
       "      <td>7</td>\n",
       "      <td>1180</td>\n",
       "      <td>0</td>\n",
       "      <td>1955</td>\n",
       "      <td>0</td>\n",
       "      <td>98178</td>\n",
       "      <td>47.5112</td>\n",
       "      <td>-122.257</td>\n",
       "      <td>1340</td>\n",
       "      <td>5650</td>\n",
       "    </tr>\n",
       "    <tr>\n",
       "      <th>1</th>\n",
       "      <td>6414100192</td>\n",
       "      <td>20141209T000000</td>\n",
       "      <td>538000.0</td>\n",
       "      <td>3</td>\n",
       "      <td>2.25</td>\n",
       "      <td>2570</td>\n",
       "      <td>7242</td>\n",
       "      <td>2.0</td>\n",
       "      <td>0</td>\n",
       "      <td>0</td>\n",
       "      <td>...</td>\n",
       "      <td>7</td>\n",
       "      <td>2170</td>\n",
       "      <td>400</td>\n",
       "      <td>1951</td>\n",
       "      <td>1991</td>\n",
       "      <td>98125</td>\n",
       "      <td>47.7210</td>\n",
       "      <td>-122.319</td>\n",
       "      <td>1690</td>\n",
       "      <td>7639</td>\n",
       "    </tr>\n",
       "    <tr>\n",
       "      <th>2</th>\n",
       "      <td>5631500400</td>\n",
       "      <td>20150225T000000</td>\n",
       "      <td>180000.0</td>\n",
       "      <td>2</td>\n",
       "      <td>1.00</td>\n",
       "      <td>770</td>\n",
       "      <td>10000</td>\n",
       "      <td>1.0</td>\n",
       "      <td>0</td>\n",
       "      <td>0</td>\n",
       "      <td>...</td>\n",
       "      <td>6</td>\n",
       "      <td>770</td>\n",
       "      <td>0</td>\n",
       "      <td>1933</td>\n",
       "      <td>0</td>\n",
       "      <td>98028</td>\n",
       "      <td>47.7379</td>\n",
       "      <td>-122.233</td>\n",
       "      <td>2720</td>\n",
       "      <td>8062</td>\n",
       "    </tr>\n",
       "    <tr>\n",
       "      <th>3</th>\n",
       "      <td>2487200875</td>\n",
       "      <td>20141209T000000</td>\n",
       "      <td>604000.0</td>\n",
       "      <td>4</td>\n",
       "      <td>3.00</td>\n",
       "      <td>1960</td>\n",
       "      <td>5000</td>\n",
       "      <td>1.0</td>\n",
       "      <td>0</td>\n",
       "      <td>0</td>\n",
       "      <td>...</td>\n",
       "      <td>7</td>\n",
       "      <td>1050</td>\n",
       "      <td>910</td>\n",
       "      <td>1965</td>\n",
       "      <td>0</td>\n",
       "      <td>98136</td>\n",
       "      <td>47.5208</td>\n",
       "      <td>-122.393</td>\n",
       "      <td>1360</td>\n",
       "      <td>5000</td>\n",
       "    </tr>\n",
       "    <tr>\n",
       "      <th>4</th>\n",
       "      <td>1954400510</td>\n",
       "      <td>20150218T000000</td>\n",
       "      <td>510000.0</td>\n",
       "      <td>3</td>\n",
       "      <td>2.00</td>\n",
       "      <td>1680</td>\n",
       "      <td>8080</td>\n",
       "      <td>1.0</td>\n",
       "      <td>0</td>\n",
       "      <td>0</td>\n",
       "      <td>...</td>\n",
       "      <td>8</td>\n",
       "      <td>1680</td>\n",
       "      <td>0</td>\n",
       "      <td>1987</td>\n",
       "      <td>0</td>\n",
       "      <td>98074</td>\n",
       "      <td>47.6168</td>\n",
       "      <td>-122.045</td>\n",
       "      <td>1800</td>\n",
       "      <td>7503</td>\n",
       "    </tr>\n",
       "  </tbody>\n",
       "</table>\n",
       "<p>5 rows × 21 columns</p>\n",
       "</div>"
      ],
      "text/plain": [
       "           id             date     price  bedrooms  bathrooms  sqft_living  \\\n",
       "0  7129300520  20141013T000000  221900.0         3       1.00         1180   \n",
       "1  6414100192  20141209T000000  538000.0         3       2.25         2570   \n",
       "2  5631500400  20150225T000000  180000.0         2       1.00          770   \n",
       "3  2487200875  20141209T000000  604000.0         4       3.00         1960   \n",
       "4  1954400510  20150218T000000  510000.0         3       2.00         1680   \n",
       "\n",
       "   sqft_lot  floors  waterfront  view  ...  grade  sqft_above  sqft_basement  \\\n",
       "0      5650     1.0           0     0  ...      7        1180              0   \n",
       "1      7242     2.0           0     0  ...      7        2170            400   \n",
       "2     10000     1.0           0     0  ...      6         770              0   \n",
       "3      5000     1.0           0     0  ...      7        1050            910   \n",
       "4      8080     1.0           0     0  ...      8        1680              0   \n",
       "\n",
       "   yr_built  yr_renovated  zipcode      lat     long  sqft_living15  \\\n",
       "0      1955             0    98178  47.5112 -122.257           1340   \n",
       "1      1951          1991    98125  47.7210 -122.319           1690   \n",
       "2      1933             0    98028  47.7379 -122.233           2720   \n",
       "3      1965             0    98136  47.5208 -122.393           1360   \n",
       "4      1987             0    98074  47.6168 -122.045           1800   \n",
       "\n",
       "   sqft_lot15  \n",
       "0        5650  \n",
       "1        7639  \n",
       "2        8062  \n",
       "3        5000  \n",
       "4        7503  \n",
       "\n",
       "[5 rows x 21 columns]"
      ]
     },
     "execution_count": 2,
     "metadata": {},
     "output_type": "execute_result"
    }
   ],
   "source": [
    "df = pd.read_csv('../data/house-prices.csv')\n",
    "df.head()"
   ]
  },
  {
   "cell_type": "code",
   "execution_count": 3,
   "metadata": {},
   "outputs": [
    {
     "data": {
      "text/plain": [
       "(21613, 21)"
      ]
     },
     "execution_count": 3,
     "metadata": {},
     "output_type": "execute_result"
    }
   ],
   "source": [
    "df.shape"
   ]
  },
  {
   "cell_type": "markdown",
   "metadata": {},
   "source": [
    "### Pré-processamento"
   ]
  },
  {
   "cell_type": "code",
   "execution_count": 4,
   "metadata": {},
   "outputs": [
    {
     "data": {
      "text/plain": [
       "(21613,)"
      ]
     },
     "execution_count": 4,
     "metadata": {},
     "output_type": "execute_result"
    }
   ],
   "source": [
    "X = df.iloc[:, 5].values\n",
    "X.shape"
   ]
  },
  {
   "cell_type": "code",
   "execution_count": 5,
   "metadata": {},
   "outputs": [
    {
     "data": {
      "text/plain": [
       "(21613, 1)"
      ]
     },
     "execution_count": 5,
     "metadata": {},
     "output_type": "execute_result"
    }
   ],
   "source": [
    "# transformando em matriz\n",
    "X = X.reshape(-1, 1) # -1 não mexe nas linhas, add uma coluna\n",
    "X.shape"
   ]
  },
  {
   "cell_type": "code",
   "execution_count": 6,
   "metadata": {},
   "outputs": [
    {
     "data": {
      "text/plain": [
       "(21613, 1)"
      ]
     },
     "execution_count": 6,
     "metadata": {},
     "output_type": "execute_result"
    }
   ],
   "source": [
    "y = df.iloc[:, 2:3].values # elimina o uso do reshape\n",
    "y.shape"
   ]
  },
  {
   "cell_type": "markdown",
   "metadata": {},
   "source": [
    "#### Escalonamento"
   ]
  },
  {
   "cell_type": "code",
   "execution_count": 7,
   "metadata": {},
   "outputs": [],
   "source": [
    "from sklearn.preprocessing import StandardScaler"
   ]
  },
  {
   "cell_type": "code",
   "execution_count": 8,
   "metadata": {},
   "outputs": [
    {
     "name": "stderr",
     "output_type": "stream",
     "text": [
      "/home/dstrb/anaconda3/envs/tensor/lib/python3.6/site-packages/sklearn/utils/validation.py:595: DataConversionWarning: Data with input dtype int64 was converted to float64 by StandardScaler.\n",
      "  warnings.warn(msg, DataConversionWarning)\n",
      "/home/dstrb/anaconda3/envs/tensor/lib/python3.6/site-packages/sklearn/utils/validation.py:595: DataConversionWarning: Data with input dtype int64 was converted to float64 by StandardScaler.\n",
      "  warnings.warn(msg, DataConversionWarning)\n"
     ]
    },
    {
     "data": {
      "text/plain": [
       "array([[-0.97983502],\n",
       "       [ 0.53363434],\n",
       "       [-1.42625404],\n",
       "       [-0.13055006],\n",
       "       [-0.43542158]])"
      ]
     },
     "execution_count": 8,
     "metadata": {},
     "output_type": "execute_result"
    }
   ],
   "source": [
    "scaler_x = StandardScaler()\n",
    "X = scaler_x.fit_transform(X)\n",
    "X[:5]"
   ]
  },
  {
   "cell_type": "code",
   "execution_count": 9,
   "metadata": {},
   "outputs": [
    {
     "data": {
      "text/plain": [
       "array([[-0.86671733],\n",
       "       [-0.00568792],\n",
       "       [-0.98084935],\n",
       "       [ 0.17409044],\n",
       "       [-0.08195753]])"
      ]
     },
     "execution_count": 9,
     "metadata": {},
     "output_type": "execute_result"
    }
   ],
   "source": [
    "scaler_y = StandardScaler()\n",
    "y = scaler_y.fit_transform(y)\n",
    "y[:5]"
   ]
  },
  {
   "cell_type": "code",
   "execution_count": 10,
   "metadata": {},
   "outputs": [
    {
     "data": {
      "text/plain": [
       "[_NumericColumn(key='x', shape=(1,), default_value=None, dtype=tf.float32, normalizer_fn=None)]"
      ]
     },
     "execution_count": 10,
     "metadata": {},
     "output_type": "execute_result"
    }
   ],
   "source": [
    "colunas = [tf.feature_column.numeric_column('x', shape=[1])]\n",
    "colunas"
   ]
  },
  {
   "cell_type": "code",
   "execution_count": 11,
   "metadata": {},
   "outputs": [
    {
     "name": "stdout",
     "output_type": "stream",
     "text": [
      "INFO:tensorflow:Using default config.\n",
      "WARNING:tensorflow:Using temporary folder as model directory: /tmp/tmp9qou9id5\n",
      "INFO:tensorflow:Using config: {'_model_dir': '/tmp/tmp9qou9id5', '_tf_random_seed': None, '_save_summary_steps': 100, '_save_checkpoints_steps': None, '_save_checkpoints_secs': 600, '_session_config': allow_soft_placement: true\n",
      "graph_options {\n",
      "  rewrite_options {\n",
      "    meta_optimizer_iterations: ONE\n",
      "  }\n",
      "}\n",
      ", '_keep_checkpoint_max': 5, '_keep_checkpoint_every_n_hours': 10000, '_log_step_count_steps': 100, '_train_distribute': None, '_device_fn': None, '_protocol': None, '_eval_distribute': None, '_experimental_distribute': None, '_service': None, '_cluster_spec': <tensorflow.python.training.server_lib.ClusterSpec object at 0x7f38b96a7518>, '_task_type': 'worker', '_task_id': 0, '_global_id_in_cluster': 0, '_master': '', '_evaluation_master': '', '_is_chief': True, '_num_ps_replicas': 0, '_num_worker_replicas': 1}\n"
     ]
    }
   ],
   "source": [
    "regressor = tf.estimator.LinearRegressor(feature_columns=colunas)"
   ]
  },
  {
   "cell_type": "markdown",
   "metadata": {},
   "source": [
    "#### Split base"
   ]
  },
  {
   "cell_type": "code",
   "execution_count": 12,
   "metadata": {},
   "outputs": [],
   "source": [
    "from sklearn.model_selection import train_test_split"
   ]
  },
  {
   "cell_type": "code",
   "execution_count": 13,
   "metadata": {},
   "outputs": [
    {
     "data": {
      "text/plain": [
       "((15129, 1), (6484, 1), (15129, 1), (6484, 1))"
      ]
     },
     "execution_count": 13,
     "metadata": {},
     "output_type": "execute_result"
    }
   ],
   "source": [
    "X_treinamento, X_teste, y_treinamento, y_teste = train_test_split(X, y, test_size=.3)\n",
    "X_treinamento.shape, X_teste.shape, y_treinamento.shape, y_teste.shape"
   ]
  },
  {
   "cell_type": "markdown",
   "metadata": {},
   "source": [
    "### Treinamento"
   ]
  },
  {
   "cell_type": "code",
   "execution_count": 14,
   "metadata": {},
   "outputs": [],
   "source": [
    "funcao_treinamento = tf.estimator.inputs.numpy_input_fn(\n",
    "    {'x': X_treinamento}, \n",
    "    y_treinamento,\n",
    "    batch_size=32,\n",
    "    num_epochs=None,\n",
    "    shuffle=True\n",
    ")"
   ]
  },
  {
   "cell_type": "code",
   "execution_count": 15,
   "metadata": {},
   "outputs": [],
   "source": [
    "funcao_teste = tf.estimator.inputs.numpy_input_fn(\n",
    "    {'x': X_teste}, \n",
    "    y_teste,\n",
    "    batch_size=32,\n",
    "    num_epochs=1000,\n",
    "    shuffle=False\n",
    ")"
   ]
  },
  {
   "cell_type": "code",
   "execution_count": 16,
   "metadata": {},
   "outputs": [
    {
     "name": "stdout",
     "output_type": "stream",
     "text": [
      "WARNING:tensorflow:From /home/dstrb/.local/lib/python3.6/site-packages/tensorflow/python/estimator/inputs/queues/feeding_queue_runner.py:62: QueueRunner.__init__ (from tensorflow.python.training.queue_runner_impl) is deprecated and will be removed in a future version.\n",
      "Instructions for updating:\n",
      "To construct input pipelines, use the `tf.data` module.\n",
      "WARNING:tensorflow:From /home/dstrb/.local/lib/python3.6/site-packages/tensorflow/python/estimator/inputs/queues/feeding_functions.py:500: add_queue_runner (from tensorflow.python.training.queue_runner_impl) is deprecated and will be removed in a future version.\n",
      "Instructions for updating:\n",
      "To construct input pipelines, use the `tf.data` module.\n",
      "INFO:tensorflow:Calling model_fn.\n",
      "INFO:tensorflow:Done calling model_fn.\n",
      "INFO:tensorflow:Create CheckpointSaverHook.\n",
      "INFO:tensorflow:Graph was finalized.\n",
      "INFO:tensorflow:Running local_init_op.\n",
      "INFO:tensorflow:Done running local_init_op.\n",
      "WARNING:tensorflow:From /home/dstrb/.local/lib/python3.6/site-packages/tensorflow/python/training/monitored_session.py:804: start_queue_runners (from tensorflow.python.training.queue_runner_impl) is deprecated and will be removed in a future version.\n",
      "Instructions for updating:\n",
      "To construct input pipelines, use the `tf.data` module.\n",
      "INFO:tensorflow:Saving checkpoints for 0 into /tmp/tmp9qou9id5/model.ckpt.\n",
      "INFO:tensorflow:loss = 14.810031, step = 1\n",
      "INFO:tensorflow:global_step/sec: 1695.21\n",
      "INFO:tensorflow:loss = 13.583679, step = 101 (0.060 sec)\n",
      "INFO:tensorflow:global_step/sec: 2116.71\n",
      "INFO:tensorflow:loss = 16.130905, step = 201 (0.047 sec)\n",
      "INFO:tensorflow:global_step/sec: 2027.34\n",
      "INFO:tensorflow:loss = 15.972269, step = 301 (0.049 sec)\n",
      "INFO:tensorflow:global_step/sec: 2129.05\n",
      "INFO:tensorflow:loss = 10.641067, step = 401 (0.047 sec)\n",
      "INFO:tensorflow:global_step/sec: 2145.9\n",
      "INFO:tensorflow:loss = 19.182747, step = 501 (0.047 sec)\n",
      "INFO:tensorflow:global_step/sec: 2098.21\n",
      "INFO:tensorflow:loss = 10.044292, step = 601 (0.048 sec)\n",
      "INFO:tensorflow:global_step/sec: 2103.69\n",
      "INFO:tensorflow:loss = 13.490356, step = 701 (0.047 sec)\n",
      "INFO:tensorflow:global_step/sec: 2097.1\n",
      "INFO:tensorflow:loss = 23.811687, step = 801 (0.048 sec)\n",
      "INFO:tensorflow:global_step/sec: 2025.38\n",
      "INFO:tensorflow:loss = 8.786931, step = 901 (0.049 sec)\n",
      "INFO:tensorflow:global_step/sec: 2073.86\n",
      "INFO:tensorflow:loss = 10.216876, step = 1001 (0.048 sec)\n",
      "INFO:tensorflow:global_step/sec: 2157.1\n",
      "INFO:tensorflow:loss = 30.272743, step = 1101 (0.047 sec)\n",
      "INFO:tensorflow:global_step/sec: 2060.97\n",
      "INFO:tensorflow:loss = 48.78897, step = 1201 (0.048 sec)\n",
      "INFO:tensorflow:global_step/sec: 2066.42\n",
      "INFO:tensorflow:loss = 6.9188952, step = 1301 (0.048 sec)\n",
      "INFO:tensorflow:global_step/sec: 2049.89\n",
      "INFO:tensorflow:loss = 7.1819444, step = 1401 (0.049 sec)\n",
      "INFO:tensorflow:global_step/sec: 2071.15\n",
      "INFO:tensorflow:loss = 34.890503, step = 1501 (0.048 sec)\n",
      "INFO:tensorflow:global_step/sec: 2059.44\n",
      "INFO:tensorflow:loss = 20.6137, step = 1601 (0.049 sec)\n",
      "INFO:tensorflow:global_step/sec: 2096.63\n",
      "INFO:tensorflow:loss = 23.942692, step = 1701 (0.048 sec)\n",
      "INFO:tensorflow:global_step/sec: 2068.11\n",
      "INFO:tensorflow:loss = 6.1702204, step = 1801 (0.049 sec)\n",
      "INFO:tensorflow:global_step/sec: 2141.93\n",
      "INFO:tensorflow:loss = 31.198904, step = 1901 (0.047 sec)\n",
      "INFO:tensorflow:global_step/sec: 2036.08\n",
      "INFO:tensorflow:loss = 15.833492, step = 2001 (0.049 sec)\n",
      "INFO:tensorflow:global_step/sec: 2039.18\n",
      "INFO:tensorflow:loss = 10.622852, step = 2101 (0.048 sec)\n",
      "INFO:tensorflow:global_step/sec: 2078.2\n",
      "INFO:tensorflow:loss = 7.914153, step = 2201 (0.048 sec)\n",
      "INFO:tensorflow:global_step/sec: 1959.77\n",
      "INFO:tensorflow:loss = 27.754122, step = 2301 (0.050 sec)\n",
      "INFO:tensorflow:global_step/sec: 1996.55\n",
      "INFO:tensorflow:loss = 9.945825, step = 2401 (0.050 sec)\n",
      "INFO:tensorflow:global_step/sec: 2120.47\n",
      "INFO:tensorflow:loss = 19.542255, step = 2501 (0.048 sec)\n",
      "INFO:tensorflow:global_step/sec: 1999.71\n",
      "INFO:tensorflow:loss = 52.336166, step = 2601 (0.050 sec)\n",
      "INFO:tensorflow:global_step/sec: 2081.48\n",
      "INFO:tensorflow:loss = 9.968679, step = 2701 (0.048 sec)\n",
      "INFO:tensorflow:global_step/sec: 2033.2\n",
      "INFO:tensorflow:loss = 8.672422, step = 2801 (0.049 sec)\n",
      "INFO:tensorflow:global_step/sec: 2043.36\n",
      "INFO:tensorflow:loss = 11.5818205, step = 2901 (0.049 sec)\n",
      "INFO:tensorflow:global_step/sec: 2127.21\n",
      "INFO:tensorflow:loss = 14.752174, step = 3001 (0.047 sec)\n",
      "INFO:tensorflow:global_step/sec: 2038.85\n",
      "INFO:tensorflow:loss = 23.643732, step = 3101 (0.049 sec)\n",
      "INFO:tensorflow:global_step/sec: 2136.03\n",
      "INFO:tensorflow:loss = 14.622559, step = 3201 (0.047 sec)\n",
      "INFO:tensorflow:global_step/sec: 2139.75\n",
      "INFO:tensorflow:loss = 13.290743, step = 3301 (0.047 sec)\n",
      "INFO:tensorflow:global_step/sec: 2046.81\n",
      "INFO:tensorflow:loss = 10.324125, step = 3401 (0.049 sec)\n",
      "INFO:tensorflow:global_step/sec: 2030.62\n",
      "INFO:tensorflow:loss = 18.028028, step = 3501 (0.049 sec)\n",
      "INFO:tensorflow:global_step/sec: 2025.95\n",
      "INFO:tensorflow:loss = 24.66265, step = 3601 (0.049 sec)\n",
      "INFO:tensorflow:global_step/sec: 2072.74\n",
      "INFO:tensorflow:loss = 12.443998, step = 3701 (0.049 sec)\n",
      "INFO:tensorflow:global_step/sec: 2147.16\n",
      "INFO:tensorflow:loss = 16.036568, step = 3801 (0.046 sec)\n",
      "INFO:tensorflow:global_step/sec: 2067.62\n",
      "INFO:tensorflow:loss = 9.310209, step = 3901 (0.048 sec)\n",
      "INFO:tensorflow:global_step/sec: 2188.18\n",
      "INFO:tensorflow:loss = 6.6023517, step = 4001 (0.046 sec)\n",
      "INFO:tensorflow:global_step/sec: 2005.64\n",
      "INFO:tensorflow:loss = 15.281649, step = 4101 (0.049 sec)\n",
      "INFO:tensorflow:global_step/sec: 2169.86\n",
      "INFO:tensorflow:loss = 47.95169, step = 4201 (0.046 sec)\n",
      "INFO:tensorflow:global_step/sec: 2117.22\n",
      "INFO:tensorflow:loss = 12.267435, step = 4301 (0.047 sec)\n",
      "INFO:tensorflow:global_step/sec: 2092.8\n",
      "INFO:tensorflow:loss = 18.254446, step = 4401 (0.048 sec)\n",
      "INFO:tensorflow:global_step/sec: 2122.68\n",
      "INFO:tensorflow:loss = 10.629116, step = 4501 (0.047 sec)\n",
      "INFO:tensorflow:global_step/sec: 2235.45\n",
      "INFO:tensorflow:loss = 13.687588, step = 4601 (0.045 sec)\n",
      "INFO:tensorflow:global_step/sec: 2126.34\n",
      "INFO:tensorflow:loss = 12.390244, step = 4701 (0.047 sec)\n",
      "INFO:tensorflow:global_step/sec: 2133.8\n",
      "INFO:tensorflow:loss = 9.165661, step = 4801 (0.047 sec)\n",
      "INFO:tensorflow:global_step/sec: 2215.43\n",
      "INFO:tensorflow:loss = 9.442095, step = 4901 (0.045 sec)\n",
      "INFO:tensorflow:global_step/sec: 2147.15\n",
      "INFO:tensorflow:loss = 7.6276245, step = 5001 (0.047 sec)\n",
      "INFO:tensorflow:global_step/sec: 2179.84\n",
      "INFO:tensorflow:loss = 12.642567, step = 5101 (0.046 sec)\n",
      "INFO:tensorflow:global_step/sec: 2159.05\n",
      "INFO:tensorflow:loss = 38.067062, step = 5201 (0.046 sec)\n",
      "INFO:tensorflow:global_step/sec: 2129.82\n",
      "INFO:tensorflow:loss = 27.869333, step = 5301 (0.047 sec)\n",
      "INFO:tensorflow:global_step/sec: 2179.71\n",
      "INFO:tensorflow:loss = 19.565506, step = 5401 (0.046 sec)\n",
      "INFO:tensorflow:global_step/sec: 2140.96\n",
      "INFO:tensorflow:loss = 10.7355995, step = 5501 (0.047 sec)\n",
      "INFO:tensorflow:global_step/sec: 2138.51\n",
      "INFO:tensorflow:loss = 16.030806, step = 5601 (0.046 sec)\n",
      "INFO:tensorflow:global_step/sec: 2038.05\n",
      "INFO:tensorflow:loss = 13.511559, step = 5701 (0.049 sec)\n",
      "INFO:tensorflow:global_step/sec: 2076.1\n",
      "INFO:tensorflow:loss = 16.599432, step = 5801 (0.048 sec)\n",
      "INFO:tensorflow:global_step/sec: 2204.72\n",
      "INFO:tensorflow:loss = 20.800234, step = 5901 (0.045 sec)\n",
      "INFO:tensorflow:global_step/sec: 2120.97\n",
      "INFO:tensorflow:loss = 10.745941, step = 6001 (0.047 sec)\n",
      "INFO:tensorflow:global_step/sec: 2138.81\n",
      "INFO:tensorflow:loss = 10.175682, step = 6101 (0.047 sec)\n",
      "INFO:tensorflow:global_step/sec: 2201.41\n",
      "INFO:tensorflow:loss = 15.591429, step = 6201 (0.045 sec)\n",
      "INFO:tensorflow:global_step/sec: 2152.06\n",
      "INFO:tensorflow:loss = 21.961945, step = 6301 (0.047 sec)\n",
      "INFO:tensorflow:global_step/sec: 2096.03\n",
      "INFO:tensorflow:loss = 24.261879, step = 6401 (0.048 sec)\n",
      "INFO:tensorflow:global_step/sec: 2122.92\n",
      "INFO:tensorflow:loss = 13.975834, step = 6501 (0.047 sec)\n",
      "INFO:tensorflow:global_step/sec: 2023.28\n",
      "INFO:tensorflow:loss = 23.557243, step = 6601 (0.049 sec)\n",
      "INFO:tensorflow:global_step/sec: 1962.44\n",
      "INFO:tensorflow:loss = 42.892616, step = 6701 (0.051 sec)\n",
      "INFO:tensorflow:global_step/sec: 2096.97\n",
      "INFO:tensorflow:loss = 12.654303, step = 6801 (0.048 sec)\n",
      "INFO:tensorflow:global_step/sec: 2105.6\n",
      "INFO:tensorflow:loss = 13.739604, step = 6901 (0.048 sec)\n",
      "INFO:tensorflow:global_step/sec: 2102.07\n"
     ]
    },
    {
     "name": "stdout",
     "output_type": "stream",
     "text": [
      "INFO:tensorflow:loss = 14.868628, step = 7001 (0.047 sec)\n",
      "INFO:tensorflow:global_step/sec: 2076.26\n",
      "INFO:tensorflow:loss = 5.186596, step = 7101 (0.048 sec)\n",
      "INFO:tensorflow:global_step/sec: 2103.56\n",
      "INFO:tensorflow:loss = 7.5183005, step = 7201 (0.048 sec)\n",
      "INFO:tensorflow:global_step/sec: 2114.22\n",
      "INFO:tensorflow:loss = 16.31725, step = 7301 (0.047 sec)\n",
      "INFO:tensorflow:global_step/sec: 2046.58\n",
      "INFO:tensorflow:loss = 6.507325, step = 7401 (0.049 sec)\n",
      "INFO:tensorflow:global_step/sec: 2109.05\n",
      "INFO:tensorflow:loss = 12.442099, step = 7501 (0.047 sec)\n",
      "INFO:tensorflow:global_step/sec: 2112.33\n",
      "INFO:tensorflow:loss = 10.512228, step = 7601 (0.048 sec)\n",
      "INFO:tensorflow:global_step/sec: 2023.91\n",
      "INFO:tensorflow:loss = 32.11124, step = 7701 (0.049 sec)\n",
      "INFO:tensorflow:global_step/sec: 2154.46\n",
      "INFO:tensorflow:loss = 11.549549, step = 7801 (0.047 sec)\n",
      "INFO:tensorflow:global_step/sec: 2055.62\n",
      "INFO:tensorflow:loss = 11.227213, step = 7901 (0.049 sec)\n",
      "INFO:tensorflow:global_step/sec: 2116.52\n",
      "INFO:tensorflow:loss = 15.666492, step = 8001 (0.047 sec)\n",
      "INFO:tensorflow:global_step/sec: 2128.08\n",
      "INFO:tensorflow:loss = 15.830492, step = 8101 (0.047 sec)\n",
      "INFO:tensorflow:global_step/sec: 2097.94\n",
      "INFO:tensorflow:loss = 10.066635, step = 8201 (0.048 sec)\n",
      "INFO:tensorflow:global_step/sec: 2158.4\n",
      "INFO:tensorflow:loss = 7.181871, step = 8301 (0.046 sec)\n",
      "INFO:tensorflow:global_step/sec: 2089.09\n",
      "INFO:tensorflow:loss = 6.8248224, step = 8401 (0.048 sec)\n",
      "INFO:tensorflow:global_step/sec: 2108.47\n",
      "INFO:tensorflow:loss = 12.631195, step = 8501 (0.048 sec)\n",
      "INFO:tensorflow:global_step/sec: 2105.15\n",
      "INFO:tensorflow:loss = 31.470852, step = 8601 (0.047 sec)\n",
      "INFO:tensorflow:global_step/sec: 2105.41\n",
      "INFO:tensorflow:loss = 11.597049, step = 8701 (0.047 sec)\n",
      "INFO:tensorflow:global_step/sec: 2123.66\n",
      "INFO:tensorflow:loss = 29.6977, step = 8801 (0.047 sec)\n",
      "INFO:tensorflow:global_step/sec: 2108.27\n",
      "INFO:tensorflow:loss = 9.904295, step = 8901 (0.048 sec)\n",
      "INFO:tensorflow:global_step/sec: 2160.81\n",
      "INFO:tensorflow:loss = 12.825136, step = 9001 (0.046 sec)\n",
      "INFO:tensorflow:global_step/sec: 2084.62\n",
      "INFO:tensorflow:loss = 10.638213, step = 9101 (0.048 sec)\n",
      "INFO:tensorflow:global_step/sec: 2152.49\n",
      "INFO:tensorflow:loss = 17.781202, step = 9201 (0.046 sec)\n",
      "INFO:tensorflow:global_step/sec: 2096.95\n",
      "INFO:tensorflow:loss = 10.201256, step = 9301 (0.048 sec)\n",
      "INFO:tensorflow:global_step/sec: 2131.46\n",
      "INFO:tensorflow:loss = 10.980646, step = 9401 (0.047 sec)\n",
      "INFO:tensorflow:global_step/sec: 2087.99\n",
      "INFO:tensorflow:loss = 11.995402, step = 9501 (0.048 sec)\n",
      "INFO:tensorflow:global_step/sec: 2119.92\n",
      "INFO:tensorflow:loss = 17.93908, step = 9601 (0.047 sec)\n",
      "INFO:tensorflow:global_step/sec: 2066.84\n",
      "INFO:tensorflow:loss = 41.550945, step = 9701 (0.048 sec)\n",
      "INFO:tensorflow:global_step/sec: 2002.61\n",
      "INFO:tensorflow:loss = 13.647192, step = 9801 (0.050 sec)\n",
      "INFO:tensorflow:global_step/sec: 1964.61\n",
      "INFO:tensorflow:loss = 22.835045, step = 9901 (0.051 sec)\n",
      "INFO:tensorflow:Saving checkpoints for 10000 into /tmp/tmp9qou9id5/model.ckpt.\n",
      "INFO:tensorflow:Loss for final step: 6.458067.\n"
     ]
    },
    {
     "data": {
      "text/plain": [
       "<tensorflow.python.estimator.canned.linear.LinearRegressor at 0x7f38b96a7588>"
      ]
     },
     "execution_count": 16,
     "metadata": {},
     "output_type": "execute_result"
    }
   ],
   "source": [
    "regressor.train(input_fn=funcao_treinamento, steps=10000)"
   ]
  },
  {
   "cell_type": "code",
   "execution_count": null,
   "metadata": {},
   "outputs": [],
   "source": []
  },
  {
   "cell_type": "markdown",
   "metadata": {},
   "source": [
    "### Métricas"
   ]
  },
  {
   "cell_type": "code",
   "execution_count": 17,
   "metadata": {},
   "outputs": [
    {
     "name": "stdout",
     "output_type": "stream",
     "text": [
      "INFO:tensorflow:Calling model_fn.\n",
      "INFO:tensorflow:Done calling model_fn.\n",
      "INFO:tensorflow:Starting evaluation at 2019-02-13-01:01:25\n",
      "INFO:tensorflow:Graph was finalized.\n",
      "INFO:tensorflow:Restoring parameters from /tmp/tmp9qou9id5/model.ckpt-10000\n",
      "INFO:tensorflow:Running local_init_op.\n",
      "INFO:tensorflow:Done running local_init_op.\n",
      "INFO:tensorflow:Evaluation [1000/10000]\n",
      "INFO:tensorflow:Evaluation [2000/10000]\n",
      "INFO:tensorflow:Evaluation [3000/10000]\n",
      "INFO:tensorflow:Evaluation [4000/10000]\n",
      "INFO:tensorflow:Evaluation [5000/10000]\n",
      "INFO:tensorflow:Evaluation [6000/10000]\n",
      "INFO:tensorflow:Evaluation [7000/10000]\n",
      "INFO:tensorflow:Evaluation [8000/10000]\n",
      "INFO:tensorflow:Evaluation [9000/10000]\n",
      "INFO:tensorflow:Evaluation [10000/10000]\n",
      "INFO:tensorflow:Finished evaluation at 2019-02-13-01:01:29\n",
      "INFO:tensorflow:Saving dict for global step 10000: average_loss = 0.5150046, global_step = 10000, label/mean = 0.0026129237, loss = 16.480146, prediction/mean = 0.0031624762\n",
      "INFO:tensorflow:Saving 'checkpoint_path' summary for global step 10000: /tmp/tmp9qou9id5/model.ckpt-10000\n"
     ]
    }
   ],
   "source": [
    "metricas_treinamento = regressor.evaluate(input_fn=funcao_treinamento, steps = 10000)"
   ]
  },
  {
   "cell_type": "code",
   "execution_count": 18,
   "metadata": {},
   "outputs": [
    {
     "name": "stdout",
     "output_type": "stream",
     "text": [
      "INFO:tensorflow:Calling model_fn.\n",
      "INFO:tensorflow:Done calling model_fn.\n",
      "INFO:tensorflow:Starting evaluation at 2019-02-13-01:02:26\n",
      "INFO:tensorflow:Graph was finalized.\n",
      "INFO:tensorflow:Restoring parameters from /tmp/tmp9qou9id5/model.ckpt-10000\n",
      "INFO:tensorflow:Running local_init_op.\n",
      "INFO:tensorflow:Done running local_init_op.\n",
      "INFO:tensorflow:Evaluation [1000/10000]\n",
      "INFO:tensorflow:Evaluation [2000/10000]\n",
      "INFO:tensorflow:Evaluation [3000/10000]\n",
      "INFO:tensorflow:Evaluation [4000/10000]\n",
      "INFO:tensorflow:Evaluation [5000/10000]\n",
      "INFO:tensorflow:Evaluation [6000/10000]\n",
      "INFO:tensorflow:Evaluation [7000/10000]\n",
      "INFO:tensorflow:Evaluation [8000/10000]\n",
      "INFO:tensorflow:Evaluation [9000/10000]\n",
      "INFO:tensorflow:Evaluation [10000/10000]\n",
      "INFO:tensorflow:Finished evaluation at 2019-02-13-01:02:30\n",
      "INFO:tensorflow:Saving dict for global step 10000: average_loss = 0.48799464, global_step = 10000, label/mean = -0.006607719, loss = 15.6158285, prediction/mean = 0.0042639184\n",
      "INFO:tensorflow:Saving 'checkpoint_path' summary for global step 10000: /tmp/tmp9qou9id5/model.ckpt-10000\n"
     ]
    }
   ],
   "source": [
    "metricas_teste = regressor.evaluate(input_fn=funcao_teste, steps = 10000)"
   ]
  },
  {
   "cell_type": "code",
   "execution_count": 19,
   "metadata": {},
   "outputs": [
    {
     "data": {
      "text/plain": [
       "{'average_loss': 0.5150046,\n",
       " 'label/mean': 0.0026129237,\n",
       " 'loss': 16.480146,\n",
       " 'prediction/mean': 0.0031624762,\n",
       " 'global_step': 10000}"
      ]
     },
     "execution_count": 19,
     "metadata": {},
     "output_type": "execute_result"
    }
   ],
   "source": [
    "metricas_treinamento"
   ]
  },
  {
   "cell_type": "code",
   "execution_count": 20,
   "metadata": {},
   "outputs": [
    {
     "data": {
      "text/plain": [
       "{'average_loss': 0.48799464,\n",
       " 'label/mean': -0.006607719,\n",
       " 'loss': 15.6158285,\n",
       " 'prediction/mean': 0.0042639184,\n",
       " 'global_step': 10000}"
      ]
     },
     "execution_count": 20,
     "metadata": {},
     "output_type": "execute_result"
    }
   ],
   "source": [
    "metricas_teste"
   ]
  },
  {
   "cell_type": "markdown",
   "metadata": {},
   "source": [
    "### Predict"
   ]
  },
  {
   "cell_type": "code",
   "execution_count": 21,
   "metadata": {},
   "outputs": [],
   "source": [
    "import numpy as np"
   ]
  },
  {
   "cell_type": "code",
   "execution_count": 22,
   "metadata": {},
   "outputs": [],
   "source": [
    "novas_casas = np.array([[800], [900], [1000]])"
   ]
  },
  {
   "cell_type": "code",
   "execution_count": 23,
   "metadata": {},
   "outputs": [
    {
     "name": "stderr",
     "output_type": "stream",
     "text": [
      "/home/dstrb/anaconda3/envs/tensor/lib/python3.6/site-packages/sklearn/utils/validation.py:595: DataConversionWarning: Data with input dtype int64 was converted to float64 by StandardScaler.\n",
      "  warnings.warn(msg, DataConversionWarning)\n"
     ]
    }
   ],
   "source": [
    "novas_casas = scaler_x.transform(novas_casas)"
   ]
  },
  {
   "cell_type": "code",
   "execution_count": 24,
   "metadata": {},
   "outputs": [],
   "source": [
    "funcao_previsao = tf.estimator.inputs.numpy_input_fn(\n",
    "    {'x': novas_casas},\n",
    "    shuffle=True\n",
    ")"
   ]
  },
  {
   "cell_type": "code",
   "execution_count": 30,
   "metadata": {},
   "outputs": [
    {
     "name": "stdout",
     "output_type": "stream",
     "text": [
      "INFO:tensorflow:Calling model_fn.\n",
      "INFO:tensorflow:Done calling model_fn.\n",
      "INFO:tensorflow:Graph was finalized.\n",
      "INFO:tensorflow:Restoring parameters from /tmp/tmp9qou9id5/model.ckpt-10000\n",
      "INFO:tensorflow:Running local_init_op.\n",
      "INFO:tensorflow:Done running local_init_op.\n"
     ]
    },
    {
     "data": {
      "text/plain": [
       "[{'predictions': array([-0.9647126], dtype=float32)},\n",
       " {'predictions': array([-0.8133886], dtype=float32)},\n",
       " {'predictions': array([-0.8890506], dtype=float32)}]"
      ]
     },
     "execution_count": 30,
     "metadata": {},
     "output_type": "execute_result"
    }
   ],
   "source": [
    "previsoes = regressor.predict(input_fn=funcao_previsao)\n",
    "list(previsoes)"
   ]
  },
  {
   "cell_type": "code",
   "execution_count": 33,
   "metadata": {},
   "outputs": [
    {
     "name": "stdout",
     "output_type": "stream",
     "text": [
      "INFO:tensorflow:Calling model_fn.\n",
      "INFO:tensorflow:Done calling model_fn.\n",
      "INFO:tensorflow:Graph was finalized.\n",
      "INFO:tensorflow:Restoring parameters from /tmp/tmp9qou9id5/model.ckpt-10000\n",
      "INFO:tensorflow:Running local_init_op.\n",
      "INFO:tensorflow:Done running local_init_op.\n",
      "[-0.8133886] [241477.98]\n",
      "\n",
      "[-0.8890506] [213701.05]\n",
      "\n",
      "[-0.9647126] [185924.11]\n",
      "\n"
     ]
    }
   ],
   "source": [
    "for p in regressor.predict(input_fn=funcao_previsao):\n",
    "    print(p['predictions'], scaler_y.inverse_transform(p['predictions']))\n",
    "    print()"
   ]
  },
  {
   "cell_type": "code",
   "execution_count": null,
   "metadata": {},
   "outputs": [],
   "source": []
  }
 ],
 "metadata": {
  "kernelspec": {
   "display_name": "Python 3",
   "language": "python",
   "name": "python3"
  },
  "language_info": {
   "codemirror_mode": {
    "name": "ipython",
    "version": 3
   },
   "file_extension": ".py",
   "mimetype": "text/x-python",
   "name": "python",
   "nbconvert_exporter": "python",
   "pygments_lexer": "ipython3",
   "version": "3.6.8"
  }
 },
 "nbformat": 4,
 "nbformat_minor": 2
}
